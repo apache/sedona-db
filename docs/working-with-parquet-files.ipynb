{
 "cells": [
  {
   "cell_type": "markdown",
   "metadata": {},
   "source": [
    "# Working with Parquet Files\n",
    "\n",
    "To read a GeoPaquet or Parquet file, you must use the dedicated `sd.read_parquet()` method. You cannot query a file path directly within the `sd.sql()` `FROM` clause.\n",
    "\n",
    "The `sd.sql()` function is designed to query tables that have already been registered in the session."
   ]
  },
  {
   "cell_type": "markdown",
   "metadata": {},
   "source": [
    "## Install SedonaDB\n",
    "\n",
    "Use pip to install SedonaDB from the Python Package Index (PyPI)."
   ]
  },
  {
   "cell_type": "code",
   "execution_count": null,
   "metadata": {},
   "outputs": [],
   "source": [
    "%pip install \"apache-sedona[db]\""
   ]
  },
  {
   "cell_type": "markdown",
   "metadata": {},
   "source": [
    "## Implementation\n",
    "\n",
    "To read a geoparquet or parquet file with SedonaDB, you must:\n",
    "\n",
    "1. **Load** the Parquet file into a data frame using `sd.read_parquet()`.\n",
    "2. **Register** the data frame as a view with `to_view()`.\n",
    "3. **Query** the view using `sd.sql()`.\n",
    "4. **Write** to a Parquet file with `sd.to_parquet()`."
   ]
  },
  {
   "cell_type": "code",
   "execution_count": null,
   "metadata": {},
   "outputs": [],
   "source": [
    "# Import the sedona.db module and connect to SedonaDB\n",
    "import sedona.db\n",
    "\n",
    "sd = sedona.db.connect()"
   ]
  },
  {
   "cell_type": "code",
   "execution_count": null,
   "metadata": {},
   "outputs": [],
   "source": [
    "# 1. Load the Parquet file\n",
    "df = sd.read_parquet(\n",
    "    \"https://raw.githubusercontent.com/geoarrow/geoarrow-data/v0.2.0/\"\n",
    "    \"natural-earth/files/natural-earth_cities_geo.parquet\"\n",
    ")\n",
    "\n",
    "# 2. Register the data frame as a view\n",
    "df.to_view(\"zone\")\n",
    "\n",
    "# 3. Query the view and store the result in a new DataFrame\n",
    "query_result_df = sd.sql(\"SELECT * FROM zone LIMIT 10\")\n",
    "query_result_df.show()"
   ]
  },
  {
   "cell_type": "code",
   "execution_count": null,
   "metadata": {},
   "outputs": [],
   "source": [
    "# 4. Write the result to a new Parquet file\n",
    "output_path = \"query_results.parquet\"\n",
    "query_result_df.to_parquet(output_path)\n",
    "\n",
    "# (Optional) Verify the written file\n",
    "print(f\"\\nVerifying the written file at '{output_path}'...\")\n",
    "verified_df = sd.read_parquet(output_path)\n",
    "verified_df.show(5)"
   ]
  },
  {
   "cell_type": "markdown",
   "metadata": {},
   "source": [
    "### Common Errors\n",
    "\n",
    "Directly using a file path within `sd.sql()` is a common mistake that will result in an error.\n",
    "\n",
    "**Incorrect Code:**"
   ]
  },
  {
   "cell_type": "code",
   "execution_count": null,
   "metadata": {},
   "outputs": [],
   "source": [
    "# This will fail because the SQL engine looks for a table named 's3://...'\n",
    "# sd.sql(\"SELECT * FROM 's3://FILE-PATH.parquet'\")"
   ]
  },
  {
   "cell_type": "markdown",
   "metadata": {},
   "source": [
    "**Resulting Error:**\n",
    "\n",
    "When you pass a path like `'s3://...'` to `FROM`, the SQL engine searches for a registered table with that literal name and fails when it's not found, producing a `table not found` error.\n",
    "\n",
    "```sh\n",
    "sedonadb._lib.SedonaError: Error during planning: table '...s3://...' not found\n",
    "```"
   ]
  }
 ],
 "metadata": {
  "kernelspec": {
   "display_name": "Python 3",
   "language": "python",
   "name": "python3"
  },
  "language_info": {
   "codemirror_mode": {
    "name": "ipython",
    "version": 3
   },
   "file_extension": ".py",
   "mimetype": "text/x-python",
   "name": "python",
   "nbconvert_exporter": "python",
   "pygments_lexer": "ipython3",
   "version": "3.10.9"
  }
 },
 "nbformat": 4,
 "nbformat_minor": 4
}
