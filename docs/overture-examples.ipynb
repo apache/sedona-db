{
 "cells": [
  {
   "cell_type": "markdown",
   "id": "8239e8eb-724c-44df-b651-c2dd02f1d96c",
   "metadata": {},
   "source": [
    "<!---\n",
    "  Licensed to the Apache Software Foundation (ASF) under one\n",
    "  or more contributor license agreements.  See the NOTICE file\n",
    "  distributed with this work for additional information\n",
    "  regarding copyright ownership.  The ASF licenses this file\n",
    "  to you under the Apache License, Version 2.0 (the\n",
    "  \"License\"); you may not use this file except in compliance\n",
    "  with the License.  You may obtain a copy of the License at\n",
    "\n",
    "    http://www.apache.org/licenses/LICENSE-2.0\n",
    "\n",
    "  Unless required by applicable law or agreed to in writing,\n",
    "  software distributed under the License is distributed on an\n",
    "  \"AS IS\" BASIS, WITHOUT WARRANTIES OR CONDITIONS OF ANY\n",
    "  KIND, either express or implied.  See the License for the\n",
    "  specific language governing permissions and limitations\n",
    "  under the License.\n",
    "-->\n",
    "\n",
    "# SedonaDB Overture Examples\n",
    "\n",
    "> Note: Before running this notebook, ensure that you have installed SedonaDB: `pip install \"sedona[db]\"`\n",
    "\n",
    "This notebook demonstrates how to query and analyze the [Overture Maps](https://overturemaps.org/) dataset using SedonaDB.\n",
    "\n",
    "The notebook explains how to:\n",
    "* Load Overture data for the `buildings` and `divisions` themes directly from S3.\n",
    "* Perform spatial queries to find features within a specific geographic area.\n",
    "* Optimize subsequent query performance by caching a subset of data in memory."
   ]
  },
  {
   "cell_type": "code",
   "execution_count": 1,
   "id": "6d6fa0ab-b4ed-4e60-b099-a1af0998b486",
   "metadata": {},
   "outputs": [],
   "source": [
    "import sedona.db\n",
    "import os\n",
    "\n",
    "os.environ[\"AWS_SKIP_SIGNATURE\"] = \"true\"\n",
    "os.environ[\"AWS_DEFAULT_REGION\"] = \"us-west-2\"\n",
    "\n",
    "sd = sedona.db.connect()"
   ]
  },
  {
   "cell_type": "markdown",
   "id": "4f44adfb-2973-4a65-b4f2-d24b28700b79",
   "metadata": {},
   "source": [
    "## Overture buildings table"
   ]
  },
  {
   "cell_type": "code",
   "execution_count": 2,
   "id": "52855769-4872-472a-9c42-afced3d85ca8",
   "metadata": {},
   "outputs": [],
   "source": [
    "df = sd.read_parquet(\n",
    "    \"s3://overturemaps-us-west-2/release/2025-08-20.0/theme=buildings/type=building/\"\n",
    ")"
   ]
  },
  {
   "cell_type": "code",
   "execution_count": 3,
   "id": "b45b5e5c-64ed-49ba-a8aa-9f2292f617c6",
   "metadata": {},
   "outputs": [
    {
     "name": "stdout",
     "output_type": "stream",
     "text": [
      "┌──────────────────────────────────────┬─────────────────────────────────────────┬───┬─────────────┐\n",
      "│                  id                  ┆                 geometry                ┆ … ┆ roof_height │\n",
      "│                 utf8                 ┆                 geometry                ┆   ┆   float64   │\n",
      "╞══════════════════════════════════════╪═════════════════════════════════════════╪═══╪═════════════╡\n",
      "│ 76045c54-bd50-415b-9ac8-35cfc22fe80f ┆ POLYGON((-105.7936939 25.7460051,-105.… ┆ … ┆             │\n",
      "├╌╌╌╌╌╌╌╌╌╌╌╌╌╌╌╌╌╌╌╌╌╌╌╌╌╌╌╌╌╌╌╌╌╌╌╌╌╌┼╌╌╌╌╌╌╌╌╌╌╌╌╌╌╌╌╌╌╌╌╌╌╌╌╌╌╌╌╌╌╌╌╌╌╌╌╌╌╌╌╌┼╌╌╌┼╌╌╌╌╌╌╌╌╌╌╌╌╌┤\n",
      "│ f1eb3f3e-c9b9-40af-b83e-7f2c09ef8e43 ┆ POLYGON((-105.7971397 25.7517374,-105.… ┆ … ┆             │\n",
      "├╌╌╌╌╌╌╌╌╌╌╌╌╌╌╌╌╌╌╌╌╌╌╌╌╌╌╌╌╌╌╌╌╌╌╌╌╌╌┼╌╌╌╌╌╌╌╌╌╌╌╌╌╌╌╌╌╌╌╌╌╌╌╌╌╌╌╌╌╌╌╌╌╌╌╌╌╌╌╌╌┼╌╌╌┼╌╌╌╌╌╌╌╌╌╌╌╌╌┤\n",
      "│ f6019f66-3137-4e62-9d84-e4f4febe2f6d ┆ POLYGON((-105.7928137 25.7493614,-105.… ┆ … ┆             │\n",
      "├╌╌╌╌╌╌╌╌╌╌╌╌╌╌╌╌╌╌╌╌╌╌╌╌╌╌╌╌╌╌╌╌╌╌╌╌╌╌┼╌╌╌╌╌╌╌╌╌╌╌╌╌╌╌╌╌╌╌╌╌╌╌╌╌╌╌╌╌╌╌╌╌╌╌╌╌╌╌╌╌┼╌╌╌┼╌╌╌╌╌╌╌╌╌╌╌╌╌┤\n",
      "│ 37b96ac3-0093-47d4-a898-263f6550ef14 ┆ POLYGON((-105.7857365 25.7465883,-105.… ┆ … ┆             │\n",
      "├╌╌╌╌╌╌╌╌╌╌╌╌╌╌╌╌╌╌╌╌╌╌╌╌╌╌╌╌╌╌╌╌╌╌╌╌╌╌┼╌╌╌╌╌╌╌╌╌╌╌╌╌╌╌╌╌╌╌╌╌╌╌╌╌╌╌╌╌╌╌╌╌╌╌╌╌╌╌╌╌┼╌╌╌┼╌╌╌╌╌╌╌╌╌╌╌╌╌┤\n",
      "│ e686ab8d-7062-4c0a-a8da-32ab751f7212 ┆ POLYGON((-105.7579541 25.7150521,-105.… ┆ … ┆             │\n",
      "├╌╌╌╌╌╌╌╌╌╌╌╌╌╌╌╌╌╌╌╌╌╌╌╌╌╌╌╌╌╌╌╌╌╌╌╌╌╌┼╌╌╌╌╌╌╌╌╌╌╌╌╌╌╌╌╌╌╌╌╌╌╌╌╌╌╌╌╌╌╌╌╌╌╌╌╌╌╌╌╌┼╌╌╌┼╌╌╌╌╌╌╌╌╌╌╌╌╌┤\n",
      "│ 767a736b-ac77-4427-89f0-3f9544b1e9e9 ┆ POLYGON((-105.7576387 25.7149905,-105.… ┆ … ┆             │\n",
      "├╌╌╌╌╌╌╌╌╌╌╌╌╌╌╌╌╌╌╌╌╌╌╌╌╌╌╌╌╌╌╌╌╌╌╌╌╌╌┼╌╌╌╌╌╌╌╌╌╌╌╌╌╌╌╌╌╌╌╌╌╌╌╌╌╌╌╌╌╌╌╌╌╌╌╌╌╌╌╌╌┼╌╌╌┼╌╌╌╌╌╌╌╌╌╌╌╌╌┤\n",
      "│ db3a2233-a7cb-425a-ac75-ad83cf868a32 ┆ POLYGON((-105.7589831 25.71648,-105.75… ┆ … ┆             │\n",
      "├╌╌╌╌╌╌╌╌╌╌╌╌╌╌╌╌╌╌╌╌╌╌╌╌╌╌╌╌╌╌╌╌╌╌╌╌╌╌┼╌╌╌╌╌╌╌╌╌╌╌╌╌╌╌╌╌╌╌╌╌╌╌╌╌╌╌╌╌╌╌╌╌╌╌╌╌╌╌╌╌┼╌╌╌┼╌╌╌╌╌╌╌╌╌╌╌╌╌┤\n",
      "│ 53866308-afc7-4ff1-88f6-b2af571238e3 ┆ POLYGON((-105.76268 25.7197151,-105.76… ┆ … ┆             │\n",
      "├╌╌╌╌╌╌╌╌╌╌╌╌╌╌╌╌╌╌╌╌╌╌╌╌╌╌╌╌╌╌╌╌╌╌╌╌╌╌┼╌╌╌╌╌╌╌╌╌╌╌╌╌╌╌╌╌╌╌╌╌╌╌╌╌╌╌╌╌╌╌╌╌╌╌╌╌╌╌╌╌┼╌╌╌┼╌╌╌╌╌╌╌╌╌╌╌╌╌┤\n",
      "│ 31d8f64e-b7f9-4b26-8c2a-2fd205fed995 ┆ POLYGON((-105.7626968 25.7197994,-105.… ┆ … ┆             │\n",
      "├╌╌╌╌╌╌╌╌╌╌╌╌╌╌╌╌╌╌╌╌╌╌╌╌╌╌╌╌╌╌╌╌╌╌╌╌╌╌┼╌╌╌╌╌╌╌╌╌╌╌╌╌╌╌╌╌╌╌╌╌╌╌╌╌╌╌╌╌╌╌╌╌╌╌╌╌╌╌╌╌┼╌╌╌┼╌╌╌╌╌╌╌╌╌╌╌╌╌┤\n",
      "│ 72ec6ed0-d33c-4e64-8c8f-28e7a6ac6310 ┆ POLYGON((-105.7578861 25.7190388,-105.… ┆ … ┆             │\n",
      "└──────────────────────────────────────┴─────────────────────────────────────────┴───┴─────────────┘\n"
     ]
    }
   ],
   "source": [
    "df.limit(10).show()"
   ]
  },
  {
   "cell_type": "code",
   "execution_count": 4,
   "id": "e37a023e-0e80-403a-a65b-b5a190004f72",
   "metadata": {},
   "outputs": [],
   "source": [
    "df.to_view(\"buildings\")"
   ]
  },
  {
   "cell_type": "code",
   "execution_count": 5,
   "id": "ebfe4776-e08f-4f38-97fc-fca8ec6fc364",
   "metadata": {},
   "outputs": [
    {
     "name": "stdout",
     "output_type": "stream",
     "text": [
      "┌────────────┐\n",
      "│  count(*)  │\n",
      "│    int64   │\n",
      "╞════════════╡\n",
      "│ 2539170484 │\n",
      "└────────────┘\n"
     ]
    }
   ],
   "source": [
    "# the buildings table is large and contains billions of rows\n",
    "sd.sql(\"\"\"\n",
    "SELECT\n",
    "    COUNT(*)\n",
    "FROM\n",
    "    buildings\n",
    "\"\"\").show()"
   ]
  },
  {
   "cell_type": "code",
   "execution_count": 6,
   "id": "b73f670d-0d10-4a7a-bfc7-e2abe5d9edd2",
   "metadata": {},
   "outputs": [
    {
     "data": {
      "text/plain": [
       "SedonaSchema with 24 fields:\n",
       "  id: utf8<Utf8View>\n",
       "  geometry: geometry<WkbView(ogc:crs84)>\n",
       "  bbox: struct<Struct(xmin Float32, xmax Float32, ymin Float32, ymax Float32)>\n",
       "  version: int32<Int32>\n",
       "  sources: list<List(Field { name: \"element\", data_type: Struct([Field { name: \"property\", data_type: Utf8, nullable: true, dict_id: 0, dict_is_ordered: false, metadata: {} }, Field { name: \"dataset\", data_type: Utf8, nullable: true, dict_id: 0, dict_is_ordered: false, metadata: {} }, Field { name: \"record_id\", data_type: Utf8, nullable: true, dict_id: 0, dict_is_ordered: false, metadata: {} }, Field { name: \"update_time\", data_type: Utf8, nullable: true, dict_id: 0, dict_is_ordered: false, metadata: {} }, Field { name: \"confidence\", data_type: Float64, nullable: true, dict_id: 0, dict_is_ordered: false, metadata: {} }, Field { name: \"between\", data_type: List(Field { name: \"element\", data_type: Float64, nullable: true, dict_id: 0, dict_is_ordered: false, metadata: {} }), nullable: true, dict_id: 0, dict_is_ordered: false, metadata: {} }]), nullable: true, dict_id: 0, dict_is_ordered: false, metadata: {} })>\n",
       "  level: int32<Int32>\n",
       "  subtype: utf8<Utf8View>\n",
       "  class: utf8<Utf8View>\n",
       "  height: float64<Float64>\n",
       "  names: struct<Struct(primary Utf8, common Map(Field { name: \"key_value\", data_type: Struct([Field { name: \"key\", data_type: Utf8, nullable: false, dict_id: 0, dict_is_ordered: false, metadata: {} }, Field { name: \"value\", data_type: Utf8, nullable: true, dict_id: 0, dict_is_ordered: false, metadata: {} }]), nullable: false, dict_id: 0, dict_is_ordered: false, metadata: {} }, false), rules List(Field { name: \"element\", data_type: Struct([Field { name: \"variant\", data_type: Utf8, nullable: true, dict_id: 0, dict_is_ordered: false, metadata: {} }, Field { name: \"language\", data_type: Utf8, nullable: true, dict_id: 0, dict_is_ordered: false, metadata: {} }, Field { name: \"perspectives\", data_type: Struct([Field { name: \"mode\", data_type: Utf8, nullable: true, dict_id: 0, dict_is_ordered: false, metadata: {} }, Field { name: \"countries\", data_type: List(Field { name: \"element\", data_type: Utf8, nullable: true, dict_id: 0, dict_is_ordered: false, metadata: {} }), nullable: true, dict_id: 0, dict_is_ordered: false, metadata: {} }]), nullable: true, dict_id: 0, dict_is_ordered: false, metadata: {} }, Field { name: \"value\", data_type: Utf8, nullable: true, dict_id: 0, dict_is_ordered: false, metadata: {} }, Field { name: \"between\", data_type: List(Field { name: \"element\", data_type: Float64, nullable: true, dict_id: 0, dict_is_ordered: false, metadata: {} }), nullable: true, dict_id: 0, dict_is_ordered: false, metadata: {} }, Field { name: \"side\", data_type: Utf8, nullable: true, dict_id: 0, dict_is_ordered: false, metadata: {} }]), nullable: true, dict_id: 0, dict_is_ordered: false, metadata: {} }))>\n",
       "  has_parts: boolean<Boolean>\n",
       "  is_underground: boolean<Boolean>\n",
       "  num_floors: int32<Int32>\n",
       "  num_floors_underground: int32<Int32>\n",
       "  min_height: float64<Float64>\n",
       "  min_floor: int32<Int32>\n",
       "  facade_color: utf8<Utf8View>\n",
       "  facade_material: utf8<Utf8View>\n",
       "  roof_material: utf8<Utf8View>\n",
       "  roof_shape: utf8<Utf8View>\n",
       "  roof_direction: float64<Float64>\n",
       "  roof_orientation: utf8<Utf8View>\n",
       "  roof_color: utf8<Utf8View>\n",
       "  roof_height: float64<Float64>"
      ]
     },
     "execution_count": 6,
     "metadata": {},
     "output_type": "execute_result"
    }
   ],
   "source": [
    "# check out the schema of the buildings table to see what it contains\n",
    "df.schema"
   ]
  },
  {
   "cell_type": "code",
   "execution_count": 7,
   "id": "68d1b68c-dd26-45c2-944f-61138b212943",
   "metadata": {},
   "outputs": [
    {
     "name": "stdout",
     "output_type": "stream",
     "text": [
      "┌─────────────────────────┬────────────────────┬────────────┬────────────┬─────────────────────────┐\n",
      "│            id           ┆       height       ┆ num_floors ┆ roof_shape ┆         centroid        │\n",
      "│           utf8          ┆       float64      ┆    int32   ┆    utf8    ┆         geometry        │\n",
      "╞═════════════════════════╪════════════════════╪════════════╪════════════╪═════════════════════════╡\n",
      "│ 1b9040c2-2e79-4f56-aba… ┆               22.4 ┆            ┆            ┆ POINT(-74.230407502993… │\n",
      "├╌╌╌╌╌╌╌╌╌╌╌╌╌╌╌╌╌╌╌╌╌╌╌╌╌┼╌╌╌╌╌╌╌╌╌╌╌╌╌╌╌╌╌╌╌╌┼╌╌╌╌╌╌╌╌╌╌╌╌┼╌╌╌╌╌╌╌╌╌╌╌╌┼╌╌╌╌╌╌╌╌╌╌╌╌╌╌╌╌╌╌╌╌╌╌╌╌╌┤\n",
      "│ 1b5e1cd2-d697-489e-892… ┆               21.5 ┆            ┆            ┆ POINT(-74.231451103592… │\n",
      "├╌╌╌╌╌╌╌╌╌╌╌╌╌╌╌╌╌╌╌╌╌╌╌╌╌┼╌╌╌╌╌╌╌╌╌╌╌╌╌╌╌╌╌╌╌╌┼╌╌╌╌╌╌╌╌╌╌╌╌┼╌╌╌╌╌╌╌╌╌╌╌╌┼╌╌╌╌╌╌╌╌╌╌╌╌╌╌╌╌╌╌╌╌╌╌╌╌╌┤\n",
      "│ c1afdf78-bf84-4b8f-ae1… ┆               20.9 ┆            ┆            ┆ POINT(-74.232593032240… │\n",
      "├╌╌╌╌╌╌╌╌╌╌╌╌╌╌╌╌╌╌╌╌╌╌╌╌╌┼╌╌╌╌╌╌╌╌╌╌╌╌╌╌╌╌╌╌╌╌┼╌╌╌╌╌╌╌╌╌╌╌╌┼╌╌╌╌╌╌╌╌╌╌╌╌┼╌╌╌╌╌╌╌╌╌╌╌╌╌╌╌╌╌╌╌╌╌╌╌╌╌┤\n",
      "│ 88f36399-b09f-491b-bb6… ┆               24.5 ┆            ┆            ┆ POINT(-74.231878209597… │\n",
      "├╌╌╌╌╌╌╌╌╌╌╌╌╌╌╌╌╌╌╌╌╌╌╌╌╌┼╌╌╌╌╌╌╌╌╌╌╌╌╌╌╌╌╌╌╌╌┼╌╌╌╌╌╌╌╌╌╌╌╌┼╌╌╌╌╌╌╌╌╌╌╌╌┼╌╌╌╌╌╌╌╌╌╌╌╌╌╌╌╌╌╌╌╌╌╌╌╌╌┤\n",
      "│ df37a283-f5bd-4822-a05… ┆ 24.154542922973633 ┆            ┆            ┆ POINT(-74.241910239840… │\n",
      "└─────────────────────────┴────────────────────┴────────────┴────────────┴─────────────────────────┘\n"
     ]
    }
   ],
   "source": [
    "# find all the buildings in New York City that are taller than 20 meters\n",
    "nyc_bbox_wkt = (\n",
    "    \"POLYGON((-74.2591 40.4774, -74.2591 40.9176, -73.7004 40.9176, \"\n",
    "    \"-73.7004 40.4774, -74.2591 40.4774))\"\n",
    ")\n",
    "sd.sql(f\"\"\"\n",
    "SELECT\n",
    "    id,\n",
    "    height,\n",
    "    num_floors,\n",
    "    roof_shape,\n",
    "    ST_Centroid(geometry) as centroid\n",
    "FROM\n",
    "    buildings\n",
    "WHERE\n",
    "    is_underground = FALSE\n",
    "    AND height IS NOT NULL\n",
    "    AND height > 20\n",
    "    AND ST_Intersects(\n",
    "        geometry,\n",
    "        ST_SetSRID(ST_GeomFromText('{nyc_bbox_wkt}'), 4326)\n",
    "    )\n",
    "LIMIT 5;\n",
    "\"\"\").show()"
   ]
  },
  {
   "cell_type": "markdown",
   "id": "e07fcdc1-962b-4dce-90cb-bf715432e299",
   "metadata": {},
   "source": [
    "## Overture divisions table"
   ]
  },
  {
   "cell_type": "code",
   "execution_count": 8,
   "id": "d9f122d3-4d90-46b0-ab9a-259a71cc423b",
   "metadata": {},
   "outputs": [],
   "source": [
    "df = sd.read_parquet(\n",
    "    \"s3://overturemaps-us-west-2/release/2025-08-20.0/theme=divisions/type=division_area/\"\n",
    ")"
   ]
  },
  {
   "cell_type": "code",
   "execution_count": 9,
   "id": "19a75b19-0b56-4167-b3f1-73a171ecc480",
   "metadata": {},
   "outputs": [
    {
     "name": "stdout",
     "output_type": "stream",
     "text": [
      "┌─────────────────┬────────────────┬────────────────┬───┬────────────────┬────────┬────────────────┐\n",
      "│        id       ┆    geometry    ┆      bbox      ┆ … ┆ is_territorial ┆ region ┆   division_id  │\n",
      "│       utf8      ┆    geometry    ┆     struct     ┆   ┆     boolean    ┆  utf8  ┆      utf8      │\n",
      "╞═════════════════╪════════════════╪════════════════╪═══╪════════════════╪════════╪════════════════╡\n",
      "│ 6dd2a4d4-542f-… ┆ POLYGON((-82.… ┆ {xmin: -82.38… ┆ … ┆ true           ┆ PA-4   ┆ 4b010ede-3285… │\n",
      "├╌╌╌╌╌╌╌╌╌╌╌╌╌╌╌╌╌┼╌╌╌╌╌╌╌╌╌╌╌╌╌╌╌╌┼╌╌╌╌╌╌╌╌╌╌╌╌╌╌╌╌┼╌╌╌┼╌╌╌╌╌╌╌╌╌╌╌╌╌╌╌╌┼╌╌╌╌╌╌╌╌┼╌╌╌╌╌╌╌╌╌╌╌╌╌╌╌╌┤\n",
      "│ 5eef9108-6811-… ┆ POLYGON((-82.… ┆ {xmin: -82.38… ┆ … ┆ true           ┆ PA-4   ┆ 4aa05d3a-0300… │\n",
      "├╌╌╌╌╌╌╌╌╌╌╌╌╌╌╌╌╌┼╌╌╌╌╌╌╌╌╌╌╌╌╌╌╌╌┼╌╌╌╌╌╌╌╌╌╌╌╌╌╌╌╌┼╌╌╌┼╌╌╌╌╌╌╌╌╌╌╌╌╌╌╌╌┼╌╌╌╌╌╌╌╌┼╌╌╌╌╌╌╌╌╌╌╌╌╌╌╌╌┤\n",
      "│ fe123780-bf85-… ┆ POLYGON((-82.… ┆ {xmin: -82.38… ┆ … ┆ true           ┆ PA-4   ┆ 63c6570b-70fd… │\n",
      "├╌╌╌╌╌╌╌╌╌╌╌╌╌╌╌╌╌┼╌╌╌╌╌╌╌╌╌╌╌╌╌╌╌╌┼╌╌╌╌╌╌╌╌╌╌╌╌╌╌╌╌┼╌╌╌┼╌╌╌╌╌╌╌╌╌╌╌╌╌╌╌╌┼╌╌╌╌╌╌╌╌┼╌╌╌╌╌╌╌╌╌╌╌╌╌╌╌╌┤\n",
      "│ c0f0c861-a3bc-… ┆ POLYGON((-82.… ┆ {xmin: -82.38… ┆ … ┆ true           ┆ PA-4   ┆ c3fc4642-f97b… │\n",
      "├╌╌╌╌╌╌╌╌╌╌╌╌╌╌╌╌╌┼╌╌╌╌╌╌╌╌╌╌╌╌╌╌╌╌┼╌╌╌╌╌╌╌╌╌╌╌╌╌╌╌╌┼╌╌╌┼╌╌╌╌╌╌╌╌╌╌╌╌╌╌╌╌┼╌╌╌╌╌╌╌╌┼╌╌╌╌╌╌╌╌╌╌╌╌╌╌╌╌┤\n",
      "│ a57076cb-c74d-… ┆ POLYGON((-82.… ┆ {xmin: -82.38… ┆ … ┆ true           ┆ PA-4   ┆ 5d206247-f4b2… │\n",
      "├╌╌╌╌╌╌╌╌╌╌╌╌╌╌╌╌╌┼╌╌╌╌╌╌╌╌╌╌╌╌╌╌╌╌┼╌╌╌╌╌╌╌╌╌╌╌╌╌╌╌╌┼╌╌╌┼╌╌╌╌╌╌╌╌╌╌╌╌╌╌╌╌┼╌╌╌╌╌╌╌╌┼╌╌╌╌╌╌╌╌╌╌╌╌╌╌╌╌┤\n",
      "│ d86411e8-02a1-… ┆ POLYGON((-82.… ┆ {xmin: -82.40… ┆ … ┆ true           ┆ PA-4   ┆ c5564623-b42e… │\n",
      "├╌╌╌╌╌╌╌╌╌╌╌╌╌╌╌╌╌┼╌╌╌╌╌╌╌╌╌╌╌╌╌╌╌╌┼╌╌╌╌╌╌╌╌╌╌╌╌╌╌╌╌┼╌╌╌┼╌╌╌╌╌╌╌╌╌╌╌╌╌╌╌╌┼╌╌╌╌╌╌╌╌┼╌╌╌╌╌╌╌╌╌╌╌╌╌╌╌╌┤\n",
      "│ d13f593f-7fde-… ┆ POLYGON((-82.… ┆ {xmin: -82.39… ┆ … ┆ true           ┆ PA-4   ┆ b02aa2a3-3889… │\n",
      "├╌╌╌╌╌╌╌╌╌╌╌╌╌╌╌╌╌┼╌╌╌╌╌╌╌╌╌╌╌╌╌╌╌╌┼╌╌╌╌╌╌╌╌╌╌╌╌╌╌╌╌┼╌╌╌┼╌╌╌╌╌╌╌╌╌╌╌╌╌╌╌╌┼╌╌╌╌╌╌╌╌┼╌╌╌╌╌╌╌╌╌╌╌╌╌╌╌╌┤\n",
      "│ 3598138e-788a-… ┆ POLYGON((-82.… ┆ {xmin: -82.38… ┆ … ┆ true           ┆ PA-4   ┆ 6700edfc-96e5… │\n",
      "├╌╌╌╌╌╌╌╌╌╌╌╌╌╌╌╌╌┼╌╌╌╌╌╌╌╌╌╌╌╌╌╌╌╌┼╌╌╌╌╌╌╌╌╌╌╌╌╌╌╌╌┼╌╌╌┼╌╌╌╌╌╌╌╌╌╌╌╌╌╌╌╌┼╌╌╌╌╌╌╌╌┼╌╌╌╌╌╌╌╌╌╌╌╌╌╌╌╌┤\n",
      "│ a5cecb4f-d6d1-… ┆ POLYGON((-82.… ┆ {xmin: -82.38… ┆ … ┆ true           ┆ PA-4   ┆ 9f24a80b-355d… │\n",
      "├╌╌╌╌╌╌╌╌╌╌╌╌╌╌╌╌╌┼╌╌╌╌╌╌╌╌╌╌╌╌╌╌╌╌┼╌╌╌╌╌╌╌╌╌╌╌╌╌╌╌╌┼╌╌╌┼╌╌╌╌╌╌╌╌╌╌╌╌╌╌╌╌┼╌╌╌╌╌╌╌╌┼╌╌╌╌╌╌╌╌╌╌╌╌╌╌╌╌┤\n",
      "│ a4d912fc-69d9-… ┆ POLYGON((-82.… ┆ {xmin: -82.37… ┆ … ┆ true           ┆ PA-4   ┆ 65786eba-d8fd… │\n",
      "└─────────────────┴────────────────┴────────────────┴───┴────────────────┴────────┴────────────────┘\n"
     ]
    }
   ],
   "source": [
    "# inspect a few rows of the data\n",
    "df.show(10)"
   ]
  },
  {
   "cell_type": "code",
   "execution_count": 10,
   "id": "03b951de-3397-4fcf-9baf-50e139a38dd4",
   "metadata": {},
   "outputs": [],
   "source": [
    "df.to_view(\"division_area\")"
   ]
  },
  {
   "cell_type": "code",
   "execution_count": 11,
   "id": "9c6bd69d-9407-432a-bdc8-d60976237a3a",
   "metadata": {},
   "outputs": [
    {
     "name": "stdout",
     "output_type": "stream",
     "text": [
      "┌──────────┐\n",
      "│ count(*) │\n",
      "│   int64  │\n",
      "╞══════════╡\n",
      "│  1035749 │\n",
      "└──────────┘\n"
     ]
    }
   ],
   "source": [
    "sd.sql(\"\"\"\n",
    "SELECT\n",
    "    COUNT(*)\n",
    "FROM division_area\n",
    "\"\"\").show()"
   ]
  },
  {
   "cell_type": "code",
   "execution_count": 12,
   "id": "75a6d0ed-9767-4d36-a77a-4afb7952fbe4",
   "metadata": {},
   "outputs": [
    {
     "data": {
      "text/plain": [
       "SedonaSchema with 13 fields:\n",
       "  id: utf8<Utf8View>\n",
       "  geometry: geometry<WkbView(ogc:crs84)>\n",
       "  bbox: struct<Struct(xmin Float32, xmax Float32, ymin Float32, ymax Float32)>\n",
       "  country: utf8<Utf8View>\n",
       "  version: int32<Int32>\n",
       "  sources: list<List(Field { name: \"element\", data_type: Struct([Field { name: \"property\", data_type: Utf8, nullable: true, dict_id: 0, dict_is_ordered: false, metadata: {} }, Field { name: \"dataset\", data_type: Utf8, nullable: true, dict_id: 0, dict_is_ordered: false, metadata: {} }, Field { name: \"record_id\", data_type: Utf8, nullable: true, dict_id: 0, dict_is_ordered: false, metadata: {} }, Field { name: \"update_time\", data_type: Utf8, nullable: true, dict_id: 0, dict_is_ordered: false, metadata: {} }, Field { name: \"confidence\", data_type: Float64, nullable: true, dict_id: 0, dict_is_ordered: false, metadata: {} }, Field { name: \"between\", data_type: List(Field { name: \"element\", data_type: Float64, nullable: true, dict_id: 0, dict_is_ordered: false, metadata: {} }), nullable: true, dict_id: 0, dict_is_ordered: false, metadata: {} }]), nullable: true, dict_id: 0, dict_is_ordered: false, metadata: {} })>\n",
       "  subtype: utf8<Utf8View>\n",
       "  class: utf8<Utf8View>\n",
       "  names: struct<Struct(primary Utf8, common Map(Field { name: \"key_value\", data_type: Struct([Field { name: \"key\", data_type: Utf8, nullable: false, dict_id: 0, dict_is_ordered: false, metadata: {} }, Field { name: \"value\", data_type: Utf8, nullable: true, dict_id: 0, dict_is_ordered: false, metadata: {} }]), nullable: false, dict_id: 0, dict_is_ordered: false, metadata: {} }, false), rules List(Field { name: \"element\", data_type: Struct([Field { name: \"variant\", data_type: Utf8, nullable: true, dict_id: 0, dict_is_ordered: false, metadata: {} }, Field { name: \"language\", data_type: Utf8, nullable: true, dict_id: 0, dict_is_ordered: false, metadata: {} }, Field { name: \"perspectives\", data_type: Struct([Field { name: \"mode\", data_type: Utf8, nullable: true, dict_id: 0, dict_is_ordered: false, metadata: {} }, Field { name: \"countries\", data_type: List(Field { name: \"element\", data_type: Utf8, nullable: true, dict_id: 0, dict_is_ordered: false, metadata: {} }), nullable: true, dict_id: 0, dict_is_ordered: false, metadata: {} }]), nullable: true, dict_id: 0, dict_is_ordered: false, metadata: {} }, Field { name: \"value\", data_type: Utf8, nullable: true, dict_id: 0, dict_is_ordered: false, metadata: {} }, Field { name: \"between\", data_type: List(Field { name: \"element\", data_type: Float64, nullable: true, dict_id: 0, dict_is_ordered: false, metadata: {} }), nullable: true, dict_id: 0, dict_is_ordered: false, metadata: {} }, Field { name: \"side\", data_type: Utf8, nullable: true, dict_id: 0, dict_is_ordered: false, metadata: {} }]), nullable: true, dict_id: 0, dict_is_ordered: false, metadata: {} }))>\n",
       "  is_land: boolean<Boolean>\n",
       "  is_territorial: boolean<Boolean>\n",
       "  region: utf8<Utf8View>\n",
       "  division_id: utf8<Utf8View>"
      ]
     },
     "execution_count": 12,
     "metadata": {},
     "output_type": "execute_result"
    }
   ],
   "source": [
    "df.schema"
   ]
  },
  {
   "cell_type": "code",
   "execution_count": 13,
   "id": "f1f7158c-ef2b-4377-9bee-180309ddd553",
   "metadata": {},
   "outputs": [],
   "source": [
    "# get all the divisions in Nova Scotia and save them in memory with to_memtable()\n",
    "nova_scotia_bbox_wkt = (\n",
    "    \"POLYGON((-66.5 43.4, -66.5 47.1, -59.8 47.1, -59.8 43.4, -66.5 43.4))\"\n",
    ")\n",
    "ns = sd.sql(f\"\"\"\n",
    "SELECT\n",
    "    country, region, names, geometry\n",
    "FROM division_area\n",
    "WHERE\n",
    "    ST_Intersects(\n",
    "        geometry,\n",
    "        ST_SetSRID(ST_GeomFromText('{nova_scotia_bbox_wkt}'), 4326)\n",
    "    )\n",
    "\"\"\").to_memtable()"
   ]
  },
  {
   "cell_type": "code",
   "execution_count": 14,
   "id": "27e6909d-06fa-438b-88e0-d300fd2fb1ec",
   "metadata": {},
   "outputs": [],
   "source": [
    "ns.to_view(\"ns_divisions\")"
   ]
  },
  {
   "cell_type": "code",
   "execution_count": 15,
   "id": "2dec92d8-a374-4021-990a-e50f5769516e",
   "metadata": {},
   "outputs": [],
   "source": [
    "df = sd.sql(\"\"\"\n",
    "SELECT UNNEST(names), geometry\n",
    "FROM ns_divisions\n",
    "WHERE region = 'CA-NS'\n",
    "\"\"\")"
   ]
  },
  {
   "cell_type": "code",
   "execution_count": 16,
   "id": "7f39a283-0eee-4f72-a30a-8dd9fa1aaa69",
   "metadata": {
    "scrolled": true
   },
   "outputs": [
    {
     "name": "stdout",
     "output_type": "stream",
     "text": [
      "┌────────────────────────┬────────────────────────┬────────────────────────┬───────────────────────┐\n",
      "│ __unnest_placeholder(n ┆ __unnest_placeholder(n ┆ __unnest_placeholder(n ┆        geometry       │\n",
      "│ s_divisions.names).pr… ┆ s_divisions.names).co… ┆ s_divisions.names).ru… ┆        geometry       │\n",
      "╞════════════════════════╪════════════════════════╪════════════════════════╪═══════════════════════╡\n",
      "│ Seal Island            ┆                        ┆                        ┆ POLYGON((-66.0528452… │\n",
      "├╌╌╌╌╌╌╌╌╌╌╌╌╌╌╌╌╌╌╌╌╌╌╌╌┼╌╌╌╌╌╌╌╌╌╌╌╌╌╌╌╌╌╌╌╌╌╌╌╌┼╌╌╌╌╌╌╌╌╌╌╌╌╌╌╌╌╌╌╌╌╌╌╌╌┼╌╌╌╌╌╌╌╌╌╌╌╌╌╌╌╌╌╌╌╌╌╌╌┤\n",
      "│ Mud Island             ┆                        ┆                        ┆ POLYGON((-66.0222822… │\n",
      "└────────────────────────┴────────────────────────┴────────────────────────┴───────────────────────┘\n",
      "CPU times: user 1.2 ms, sys: 844 μs, total: 2.04 ms\n",
      "Wall time: 2.03 ms\n"
     ]
    }
   ],
   "source": [
    "%%time\n",
    "# this executes quickly because the Nova Scotia data was persisted in memory with `to_memtable()`\n",
    "df.show(2)"
   ]
  }
 ],
 "metadata": {
  "kernelspec": {
   "display_name": ".venv (3.13.3)",
   "language": "python",
   "name": "python3"
  },
  "language_info": {
   "codemirror_mode": {
    "name": "ipython",
    "version": 3
   },
   "file_extension": ".py",
   "mimetype": "text/x-python",
   "name": "python",
   "nbconvert_exporter": "python",
   "pygments_lexer": "ipython3",
   "version": "3.13.3"
  }
 },
 "nbformat": 4,
 "nbformat_minor": 5
}
